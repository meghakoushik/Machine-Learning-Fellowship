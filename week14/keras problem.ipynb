{
 "cells": [
  {
   "cell_type": "code",
   "execution_count": 1,
   "metadata": {},
   "outputs": [
    {
     "name": "stderr",
     "output_type": "stream",
     "text": [
      "Using TensorFlow backend.\n"
     ]
    }
   ],
   "source": [
    "import pandas as pd\n",
    "import numpy as np\n",
    "import matplotlib.pyplot as plt\n",
    "from sklearn.preprocessing import StandardScaler\n",
    "from sklearn.metrics import accuracy_score\n",
    "from sklearn.metrics import confusion_matrix\n",
    "from sklearn.model_selection import train_test_split\n",
    "from keras.models import load_model\n",
    "from keras.models import Sequential\n",
    "import tensorflow as tf\n",
    "from keras.layers import Dense, Activation\n",
    "import pickle\n",
    "from keras.models import Model\n"
   ]
  },
  {
   "cell_type": "code",
   "execution_count": 104,
   "metadata": {},
   "outputs": [
    {
     "data": {
      "text/html": [
       "<div>\n",
       "<style scoped>\n",
       "    .dataframe tbody tr th:only-of-type {\n",
       "        vertical-align: middle;\n",
       "    }\n",
       "\n",
       "    .dataframe tbody tr th {\n",
       "        vertical-align: top;\n",
       "    }\n",
       "\n",
       "    .dataframe thead th {\n",
       "        text-align: right;\n",
       "    }\n",
       "</style>\n",
       "<table border=\"1\" class=\"dataframe\">\n",
       "  <thead>\n",
       "    <tr style=\"text-align: right;\">\n",
       "      <th></th>\n",
       "      <th>RowNumber</th>\n",
       "      <th>CustomerId</th>\n",
       "      <th>Surname</th>\n",
       "      <th>CreditScore</th>\n",
       "      <th>Geography</th>\n",
       "      <th>Gender</th>\n",
       "      <th>Age</th>\n",
       "      <th>Tenure</th>\n",
       "      <th>Balance</th>\n",
       "      <th>NumOfProducts</th>\n",
       "      <th>HasCrCard</th>\n",
       "      <th>IsActiveMember</th>\n",
       "      <th>EstimatedSalary</th>\n",
       "      <th>Exited</th>\n",
       "    </tr>\n",
       "  </thead>\n",
       "  <tbody>\n",
       "    <tr>\n",
       "      <th>0</th>\n",
       "      <td>1</td>\n",
       "      <td>15634602</td>\n",
       "      <td>Hargrave</td>\n",
       "      <td>619</td>\n",
       "      <td>France</td>\n",
       "      <td>Female</td>\n",
       "      <td>42</td>\n",
       "      <td>2</td>\n",
       "      <td>0.00</td>\n",
       "      <td>1</td>\n",
       "      <td>1</td>\n",
       "      <td>1</td>\n",
       "      <td>101348.88</td>\n",
       "      <td>1</td>\n",
       "    </tr>\n",
       "    <tr>\n",
       "      <th>1</th>\n",
       "      <td>2</td>\n",
       "      <td>15647311</td>\n",
       "      <td>Hill</td>\n",
       "      <td>608</td>\n",
       "      <td>Spain</td>\n",
       "      <td>Female</td>\n",
       "      <td>41</td>\n",
       "      <td>1</td>\n",
       "      <td>83807.86</td>\n",
       "      <td>1</td>\n",
       "      <td>0</td>\n",
       "      <td>1</td>\n",
       "      <td>112542.58</td>\n",
       "      <td>0</td>\n",
       "    </tr>\n",
       "    <tr>\n",
       "      <th>2</th>\n",
       "      <td>3</td>\n",
       "      <td>15619304</td>\n",
       "      <td>Onio</td>\n",
       "      <td>502</td>\n",
       "      <td>France</td>\n",
       "      <td>Female</td>\n",
       "      <td>42</td>\n",
       "      <td>8</td>\n",
       "      <td>159660.80</td>\n",
       "      <td>3</td>\n",
       "      <td>1</td>\n",
       "      <td>0</td>\n",
       "      <td>113931.57</td>\n",
       "      <td>1</td>\n",
       "    </tr>\n",
       "    <tr>\n",
       "      <th>3</th>\n",
       "      <td>4</td>\n",
       "      <td>15701354</td>\n",
       "      <td>Boni</td>\n",
       "      <td>699</td>\n",
       "      <td>France</td>\n",
       "      <td>Female</td>\n",
       "      <td>39</td>\n",
       "      <td>1</td>\n",
       "      <td>0.00</td>\n",
       "      <td>2</td>\n",
       "      <td>0</td>\n",
       "      <td>0</td>\n",
       "      <td>93826.63</td>\n",
       "      <td>0</td>\n",
       "    </tr>\n",
       "    <tr>\n",
       "      <th>4</th>\n",
       "      <td>5</td>\n",
       "      <td>15737888</td>\n",
       "      <td>Mitchell</td>\n",
       "      <td>850</td>\n",
       "      <td>Spain</td>\n",
       "      <td>Female</td>\n",
       "      <td>43</td>\n",
       "      <td>2</td>\n",
       "      <td>125510.82</td>\n",
       "      <td>1</td>\n",
       "      <td>1</td>\n",
       "      <td>1</td>\n",
       "      <td>79084.10</td>\n",
       "      <td>0</td>\n",
       "    </tr>\n",
       "  </tbody>\n",
       "</table>\n",
       "</div>"
      ],
      "text/plain": [
       "   RowNumber  CustomerId   Surname  CreditScore Geography  Gender  Age  \\\n",
       "0          1    15634602  Hargrave          619    France  Female   42   \n",
       "1          2    15647311      Hill          608     Spain  Female   41   \n",
       "2          3    15619304      Onio          502    France  Female   42   \n",
       "3          4    15701354      Boni          699    France  Female   39   \n",
       "4          5    15737888  Mitchell          850     Spain  Female   43   \n",
       "\n",
       "   Tenure    Balance  NumOfProducts  HasCrCard  IsActiveMember  \\\n",
       "0       2       0.00              1          1               1   \n",
       "1       1   83807.86              1          0               1   \n",
       "2       8  159660.80              3          1               0   \n",
       "3       1       0.00              2          0               0   \n",
       "4       2  125510.82              1          1               1   \n",
       "\n",
       "   EstimatedSalary  Exited  \n",
       "0        101348.88       1  \n",
       "1        112542.58       0  \n",
       "2        113931.57       1  \n",
       "3         93826.63       0  \n",
       "4         79084.10       0  "
      ]
     },
     "execution_count": 104,
     "metadata": {},
     "output_type": "execute_result"
    }
   ],
   "source": [
    "#load and read csv file\n",
    "data_module = pd.read_csv('Churn_Modelling.csv')\n",
    "data_module.head()"
   ]
  },
  {
   "cell_type": "code",
   "execution_count": 105,
   "metadata": {},
   "outputs": [
    {
     "name": "stdout",
     "output_type": "stream",
     "text": [
      "<class 'pandas.core.frame.DataFrame'>\n",
      "RangeIndex: 10000 entries, 0 to 9999\n",
      "Data columns (total 14 columns):\n",
      "RowNumber          10000 non-null int64\n",
      "CustomerId         10000 non-null int64\n",
      "Surname            10000 non-null object\n",
      "CreditScore        10000 non-null int64\n",
      "Geography          10000 non-null object\n",
      "Gender             10000 non-null object\n",
      "Age                10000 non-null int64\n",
      "Tenure             10000 non-null int64\n",
      "Balance            10000 non-null float64\n",
      "NumOfProducts      10000 non-null int64\n",
      "HasCrCard          10000 non-null int64\n",
      "IsActiveMember     10000 non-null int64\n",
      "EstimatedSalary    10000 non-null float64\n",
      "Exited             10000 non-null int64\n",
      "dtypes: float64(2), int64(9), object(3)\n",
      "memory usage: 1.1+ MB\n"
     ]
    }
   ],
   "source": [
    "data_module.info()"
   ]
  },
  {
   "cell_type": "code",
   "execution_count": 106,
   "metadata": {},
   "outputs": [
    {
     "data": {
      "text/html": [
       "<div>\n",
       "<style scoped>\n",
       "    .dataframe tbody tr th:only-of-type {\n",
       "        vertical-align: middle;\n",
       "    }\n",
       "\n",
       "    .dataframe tbody tr th {\n",
       "        vertical-align: top;\n",
       "    }\n",
       "\n",
       "    .dataframe thead th {\n",
       "        text-align: right;\n",
       "    }\n",
       "</style>\n",
       "<table border=\"1\" class=\"dataframe\">\n",
       "  <thead>\n",
       "    <tr style=\"text-align: right;\">\n",
       "      <th></th>\n",
       "      <th>RowNumber</th>\n",
       "      <th>CustomerId</th>\n",
       "      <th>CreditScore</th>\n",
       "      <th>Age</th>\n",
       "      <th>Tenure</th>\n",
       "      <th>Balance</th>\n",
       "      <th>NumOfProducts</th>\n",
       "      <th>HasCrCard</th>\n",
       "      <th>IsActiveMember</th>\n",
       "      <th>EstimatedSalary</th>\n",
       "      <th>Exited</th>\n",
       "    </tr>\n",
       "  </thead>\n",
       "  <tbody>\n",
       "    <tr>\n",
       "      <th>count</th>\n",
       "      <td>10000.00000</td>\n",
       "      <td>1.000000e+04</td>\n",
       "      <td>10000.000000</td>\n",
       "      <td>10000.000000</td>\n",
       "      <td>10000.000000</td>\n",
       "      <td>10000.000000</td>\n",
       "      <td>10000.000000</td>\n",
       "      <td>10000.00000</td>\n",
       "      <td>10000.000000</td>\n",
       "      <td>10000.000000</td>\n",
       "      <td>10000.000000</td>\n",
       "    </tr>\n",
       "    <tr>\n",
       "      <th>mean</th>\n",
       "      <td>5000.50000</td>\n",
       "      <td>1.569094e+07</td>\n",
       "      <td>650.528800</td>\n",
       "      <td>38.921800</td>\n",
       "      <td>5.012800</td>\n",
       "      <td>76485.889288</td>\n",
       "      <td>1.530200</td>\n",
       "      <td>0.70550</td>\n",
       "      <td>0.515100</td>\n",
       "      <td>100090.239881</td>\n",
       "      <td>0.203700</td>\n",
       "    </tr>\n",
       "    <tr>\n",
       "      <th>std</th>\n",
       "      <td>2886.89568</td>\n",
       "      <td>7.193619e+04</td>\n",
       "      <td>96.653299</td>\n",
       "      <td>10.487806</td>\n",
       "      <td>2.892174</td>\n",
       "      <td>62397.405202</td>\n",
       "      <td>0.581654</td>\n",
       "      <td>0.45584</td>\n",
       "      <td>0.499797</td>\n",
       "      <td>57510.492818</td>\n",
       "      <td>0.402769</td>\n",
       "    </tr>\n",
       "    <tr>\n",
       "      <th>min</th>\n",
       "      <td>1.00000</td>\n",
       "      <td>1.556570e+07</td>\n",
       "      <td>350.000000</td>\n",
       "      <td>18.000000</td>\n",
       "      <td>0.000000</td>\n",
       "      <td>0.000000</td>\n",
       "      <td>1.000000</td>\n",
       "      <td>0.00000</td>\n",
       "      <td>0.000000</td>\n",
       "      <td>11.580000</td>\n",
       "      <td>0.000000</td>\n",
       "    </tr>\n",
       "    <tr>\n",
       "      <th>25%</th>\n",
       "      <td>2500.75000</td>\n",
       "      <td>1.562853e+07</td>\n",
       "      <td>584.000000</td>\n",
       "      <td>32.000000</td>\n",
       "      <td>3.000000</td>\n",
       "      <td>0.000000</td>\n",
       "      <td>1.000000</td>\n",
       "      <td>0.00000</td>\n",
       "      <td>0.000000</td>\n",
       "      <td>51002.110000</td>\n",
       "      <td>0.000000</td>\n",
       "    </tr>\n",
       "    <tr>\n",
       "      <th>50%</th>\n",
       "      <td>5000.50000</td>\n",
       "      <td>1.569074e+07</td>\n",
       "      <td>652.000000</td>\n",
       "      <td>37.000000</td>\n",
       "      <td>5.000000</td>\n",
       "      <td>97198.540000</td>\n",
       "      <td>1.000000</td>\n",
       "      <td>1.00000</td>\n",
       "      <td>1.000000</td>\n",
       "      <td>100193.915000</td>\n",
       "      <td>0.000000</td>\n",
       "    </tr>\n",
       "    <tr>\n",
       "      <th>75%</th>\n",
       "      <td>7500.25000</td>\n",
       "      <td>1.575323e+07</td>\n",
       "      <td>718.000000</td>\n",
       "      <td>44.000000</td>\n",
       "      <td>7.000000</td>\n",
       "      <td>127644.240000</td>\n",
       "      <td>2.000000</td>\n",
       "      <td>1.00000</td>\n",
       "      <td>1.000000</td>\n",
       "      <td>149388.247500</td>\n",
       "      <td>0.000000</td>\n",
       "    </tr>\n",
       "    <tr>\n",
       "      <th>max</th>\n",
       "      <td>10000.00000</td>\n",
       "      <td>1.581569e+07</td>\n",
       "      <td>850.000000</td>\n",
       "      <td>92.000000</td>\n",
       "      <td>10.000000</td>\n",
       "      <td>250898.090000</td>\n",
       "      <td>4.000000</td>\n",
       "      <td>1.00000</td>\n",
       "      <td>1.000000</td>\n",
       "      <td>199992.480000</td>\n",
       "      <td>1.000000</td>\n",
       "    </tr>\n",
       "  </tbody>\n",
       "</table>\n",
       "</div>"
      ],
      "text/plain": [
       "         RowNumber    CustomerId   CreditScore           Age        Tenure  \\\n",
       "count  10000.00000  1.000000e+04  10000.000000  10000.000000  10000.000000   \n",
       "mean    5000.50000  1.569094e+07    650.528800     38.921800      5.012800   \n",
       "std     2886.89568  7.193619e+04     96.653299     10.487806      2.892174   \n",
       "min        1.00000  1.556570e+07    350.000000     18.000000      0.000000   \n",
       "25%     2500.75000  1.562853e+07    584.000000     32.000000      3.000000   \n",
       "50%     5000.50000  1.569074e+07    652.000000     37.000000      5.000000   \n",
       "75%     7500.25000  1.575323e+07    718.000000     44.000000      7.000000   \n",
       "max    10000.00000  1.581569e+07    850.000000     92.000000     10.000000   \n",
       "\n",
       "             Balance  NumOfProducts    HasCrCard  IsActiveMember  \\\n",
       "count   10000.000000   10000.000000  10000.00000    10000.000000   \n",
       "mean    76485.889288       1.530200      0.70550        0.515100   \n",
       "std     62397.405202       0.581654      0.45584        0.499797   \n",
       "min         0.000000       1.000000      0.00000        0.000000   \n",
       "25%         0.000000       1.000000      0.00000        0.000000   \n",
       "50%     97198.540000       1.000000      1.00000        1.000000   \n",
       "75%    127644.240000       2.000000      1.00000        1.000000   \n",
       "max    250898.090000       4.000000      1.00000        1.000000   \n",
       "\n",
       "       EstimatedSalary        Exited  \n",
       "count     10000.000000  10000.000000  \n",
       "mean     100090.239881      0.203700  \n",
       "std       57510.492818      0.402769  \n",
       "min          11.580000      0.000000  \n",
       "25%       51002.110000      0.000000  \n",
       "50%      100193.915000      0.000000  \n",
       "75%      149388.247500      0.000000  \n",
       "max      199992.480000      1.000000  "
      ]
     },
     "execution_count": 106,
     "metadata": {},
     "output_type": "execute_result"
    }
   ],
   "source": [
    "data_module.describe()"
   ]
  },
  {
   "cell_type": "code",
   "execution_count": 107,
   "metadata": {},
   "outputs": [
    {
     "data": {
      "text/plain": [
       "RowNumber          0\n",
       "CustomerId         0\n",
       "Surname            0\n",
       "CreditScore        0\n",
       "Geography          0\n",
       "Gender             0\n",
       "Age                0\n",
       "Tenure             0\n",
       "Balance            0\n",
       "NumOfProducts      0\n",
       "HasCrCard          0\n",
       "IsActiveMember     0\n",
       "EstimatedSalary    0\n",
       "Exited             0\n",
       "dtype: int64"
      ]
     },
     "execution_count": 107,
     "metadata": {},
     "output_type": "execute_result"
    }
   ],
   "source": [
    "data_module.isnull().sum()"
   ]
  },
  {
   "cell_type": "code",
   "execution_count": 108,
   "metadata": {},
   "outputs": [
    {
     "data": {
      "text/plain": [
       "0"
      ]
     },
     "execution_count": 108,
     "metadata": {},
     "output_type": "execute_result"
    }
   ],
   "source": [
    "data_module.duplicated().sum()"
   ]
  },
  {
   "cell_type": "code",
   "execution_count": 109,
   "metadata": {},
   "outputs": [],
   "source": [
    "x= data_module.iloc[:,3:13].values\n",
    "y= data_module.iloc[:,13].values"
   ]
  },
  {
   "cell_type": "code",
   "execution_count": 110,
   "metadata": {},
   "outputs": [
    {
     "name": "stderr",
     "output_type": "stream",
     "text": [
      "/home/admin172/.local/lib/python3.6/site-packages/sklearn/preprocessing/_encoders.py:415: FutureWarning: The handling of integer data will change in version 0.22. Currently, the categories are determined based on the range [0, max(values)], while in the future they will be determined based on the unique values.\n",
      "If you want the future behaviour and silence this warning, you can specify \"categories='auto'\".\n",
      "In case you used a LabelEncoder before this OneHotEncoder to convert the categories to integers, then you can now use the OneHotEncoder directly.\n",
      "  warnings.warn(msg, FutureWarning)\n",
      "/home/admin172/.local/lib/python3.6/site-packages/sklearn/preprocessing/_encoders.py:451: DeprecationWarning: The 'categorical_features' keyword is deprecated in version 0.20 and will be removed in 0.22. You can use the ColumnTransformer instead.\n",
      "  \"use the ColumnTransformer instead.\", DeprecationWarning)\n"
     ]
    }
   ],
   "source": [
    "#encoding categorical data\n",
    "from sklearn.preprocessing import LabelEncoder,OneHotEncoder\n",
    "\n",
    "labelencoder_x_1 =LabelEncoder()\n",
    "x[:,1]=labelencoder_x_1.fit_transform(x[:,1])\n",
    "\n",
    "labelencoder_x_2=LabelEncoder()\n",
    "x[:,2]=labelencoder_x_2.fit_transform(x[:,2])\n",
    "\n",
    "#oneHot Encoding\n",
    "onehotencoder=OneHotEncoder(categorical_features=[1])\n",
    "x= onehotencoder.fit_transform(x).toarray()\n",
    "x=x[:,1:]"
   ]
  },
  {
   "cell_type": "code",
   "execution_count": 111,
   "metadata": {},
   "outputs": [
    {
     "name": "stdout",
     "output_type": "stream",
     "text": [
      "(10000, 11) (10000,)\n"
     ]
    }
   ],
   "source": [
    "print(x.shape,y.shape)"
   ]
  },
  {
   "cell_type": "code",
   "execution_count": 112,
   "metadata": {},
   "outputs": [],
   "source": [
    "# #spliting original dataset into train and test\n",
    "# x_train,x_test,y_train,y_test =train_test_split(x,y,test_size=0.2,random_state=0)\n",
    "# print(x_train.shape,x_test.shape,y_train.shape,y_test.shape)\n",
    "\n",
    "\n",
    "# x_train,x_cv,y_train,y_cv = train_test_split(x_train,y_train,test_size=0.2,random_state=0)\n",
    "# print(\"\\n\",x_train.shape,x_cv.shape,y_train.shape,y_cv.shape)"
   ]
  },
  {
   "cell_type": "code",
   "execution_count": 113,
   "metadata": {},
   "outputs": [
    {
     "name": "stdout",
     "output_type": "stream",
     "text": [
      "(5600, 11) (2000, 11) (5600,) (2000,)\n",
      "\n",
      " (5600, 11) (2400, 11) (5600,) (2400,)\n"
     ]
    }
   ],
   "source": [
    "#split dataset into train and test\n",
    "x_train,x_test,y_train,y_test=train_test_split(x,y,test_size=0.20,random_state=0)\n",
    "x_train,x_cv,y_train,y_cv=train_test_split(x_train,y_train,test_size=0.30,random_state=0)\n",
    "print(x_train.shape,x_test.shape,y_train.shape,y_test.shape)\n",
    "print(\"\\n\",x_train.shape,x_cv.shape,y_train.shape,y_cv.shape)\n"
   ]
  },
  {
   "cell_type": "code",
   "execution_count": 114,
   "metadata": {},
   "outputs": [],
   "source": [
    "# Feature Scaling on independent variables\n",
    "from sklearn.preprocessing import StandardScaler\n",
    "sc=StandardScaler()\n",
    "x_train = sc.fit_transform(x_train)\n",
    "x_cv = sc.transform(x_cv)\n",
    "# x_train.shape,x_test.shape"
   ]
  },
  {
   "cell_type": "code",
   "execution_count": 115,
   "metadata": {},
   "outputs": [],
   "source": [
    "file =open('test.pickle','wb')\n",
    "pickle.dump(x_test,file)\n",
    "pickle.dump(y_test,file)\n",
    "pickle.dump(sc,file)\n",
    "file.close()"
   ]
  },
  {
   "cell_type": "code",
   "execution_count": 116,
   "metadata": {},
   "outputs": [],
   "source": [
    "import keras\n",
    "from keras.models import Sequential\n",
    "from keras.layers import Dense\n",
    "from keras.layers import Dense, Activation\n"
   ]
  },
  {
   "cell_type": "code",
   "execution_count": 117,
   "metadata": {},
   "outputs": [],
   "source": [
    "classifier= Sequential()"
   ]
  },
  {
   "cell_type": "code",
   "execution_count": 118,
   "metadata": {},
   "outputs": [
    {
     "name": "stderr",
     "output_type": "stream",
     "text": [
      "/home/admin172/.local/lib/python3.6/site-packages/ipykernel_launcher.py:2: UserWarning: Update your `Dense` call to the Keras 2 API: `Dense(activation=\"relu\", input_dim=11, units=6, kernel_initializer=\"uniform\")`\n",
      "  \n"
     ]
    }
   ],
   "source": [
    "# Adding the input layer (by specifying input dimension) AND the first hidden layer (units)\n",
    "classifier.add(Dense(output_dim = 6,init = 'uniform',activation = 'relu',input_dim =11))\n"
   ]
  },
  {
   "cell_type": "code",
   "execution_count": 119,
   "metadata": {},
   "outputs": [
    {
     "name": "stderr",
     "output_type": "stream",
     "text": [
      "/home/admin172/.local/lib/python3.6/site-packages/ipykernel_launcher.py:2: UserWarning: Update your `Dense` call to the Keras 2 API: `Dense(activation=\"relu\", units=6, kernel_initializer=\"uniform\")`\n",
      "  \n"
     ]
    }
   ],
   "source": [
    "# Adding the second hidden layer, here no need to specify input dim\n",
    "classifier.add(Dense(output_dim=6,init = 'uniform',activation = 'relu'))"
   ]
  },
  {
   "cell_type": "code",
   "execution_count": 120,
   "metadata": {
    "scrolled": true
   },
   "outputs": [
    {
     "name": "stderr",
     "output_type": "stream",
     "text": [
      "/home/admin172/.local/lib/python3.6/site-packages/ipykernel_launcher.py:2: UserWarning: Update your `Dense` call to the Keras 2 API: `Dense(activation=\"sigmoid\", units=1, kernel_initializer=\"uniform\")`\n",
      "  \n"
     ]
    }
   ],
   "source": [
    "# Adding the output layer, here no neeed to specify ip dim\n",
    "classifier.add(Dense(output_dim=1, init='uniform',activation = 'sigmoid'))"
   ]
  },
  {
   "cell_type": "code",
   "execution_count": 121,
   "metadata": {},
   "outputs": [],
   "source": [
    "# Compiling the Artificial Neural Network\n",
    "classifier.compile(optimizer='adam', loss = 'binary_crossentropy', metrics=['accuracy'])\n"
   ]
  },
  {
   "cell_type": "code",
   "execution_count": 122,
   "metadata": {},
   "outputs": [
    {
     "name": "stdout",
     "output_type": "stream",
     "text": [
      "Epoch 1/100\n",
      "5600/5600 [==============================] - 1s 130us/step - loss: 0.5155 - acc: 0.7984\n",
      "Epoch 2/100\n",
      "5600/5600 [==============================] - 0s 80us/step - loss: 0.4286 - acc: 0.7993\n",
      "Epoch 3/100\n",
      "5600/5600 [==============================] - 0s 79us/step - loss: 0.4242 - acc: 0.7993\n",
      "Epoch 4/100\n",
      "5600/5600 [==============================] - 0s 79us/step - loss: 0.4209 - acc: 0.7993\n",
      "Epoch 5/100\n",
      "5600/5600 [==============================] - 0s 81us/step - loss: 0.4188 - acc: 0.7993\n",
      "Epoch 6/100\n",
      "5600/5600 [==============================] - 0s 77us/step - loss: 0.4165 - acc: 0.8141\n",
      "Epoch 7/100\n",
      "5600/5600 [==============================] - 0s 78us/step - loss: 0.4149 - acc: 0.8270\n",
      "Epoch 8/100\n",
      "5600/5600 [==============================] - 0s 75us/step - loss: 0.4136 - acc: 0.8266\n",
      "Epoch 9/100\n",
      "5600/5600 [==============================] - 0s 77us/step - loss: 0.4130 - acc: 0.8270\n",
      "Epoch 10/100\n",
      "5600/5600 [==============================] - 0s 77us/step - loss: 0.4121 - acc: 0.8300\n",
      "Epoch 11/100\n",
      "5600/5600 [==============================] - 0s 79us/step - loss: 0.4109 - acc: 0.8304\n",
      "Epoch 12/100\n",
      "5600/5600 [==============================] - 0s 77us/step - loss: 0.4103 - acc: 0.8309\n",
      "Epoch 13/100\n",
      "5600/5600 [==============================] - 0s 75us/step - loss: 0.4097 - acc: 0.8304\n",
      "Epoch 14/100\n",
      "5600/5600 [==============================] - 0s 79us/step - loss: 0.4091 - acc: 0.8305\n",
      "Epoch 15/100\n",
      "5600/5600 [==============================] - 0s 79us/step - loss: 0.4088 - acc: 0.8320\n",
      "Epoch 16/100\n",
      "5600/5600 [==============================] - 0s 80us/step - loss: 0.4079 - acc: 0.8337\n",
      "Epoch 17/100\n",
      "5600/5600 [==============================] - 0s 78us/step - loss: 0.4072 - acc: 0.8314\n",
      "Epoch 18/100\n",
      "5600/5600 [==============================] - 0s 79us/step - loss: 0.4073 - acc: 0.8325\n",
      "Epoch 19/100\n",
      "5600/5600 [==============================] - 0s 77us/step - loss: 0.4068 - acc: 0.8321\n",
      "Epoch 20/100\n",
      "5600/5600 [==============================] - 0s 77us/step - loss: 0.4063 - acc: 0.8325\n",
      "Epoch 21/100\n",
      "5600/5600 [==============================] - 0s 78us/step - loss: 0.4063 - acc: 0.8330\n",
      "Epoch 22/100\n",
      "5600/5600 [==============================] - 0s 77us/step - loss: 0.4058 - acc: 0.8343\n",
      "Epoch 23/100\n",
      "5600/5600 [==============================] - 0s 77us/step - loss: 0.4056 - acc: 0.8325\n",
      "Epoch 24/100\n",
      "5600/5600 [==============================] - 0s 81us/step - loss: 0.4056 - acc: 0.8330\n",
      "Epoch 25/100\n",
      "5600/5600 [==============================] - 0s 78us/step - loss: 0.4051 - acc: 0.8354\n",
      "Epoch 26/100\n",
      "5600/5600 [==============================] - 0s 77us/step - loss: 0.4050 - acc: 0.8336\n",
      "Epoch 27/100\n",
      "5600/5600 [==============================] - 0s 75us/step - loss: 0.4049 - acc: 0.8345\n",
      "Epoch 28/100\n",
      "5600/5600 [==============================] - 0s 82us/step - loss: 0.4043 - acc: 0.8339\n",
      "Epoch 29/100\n",
      "5600/5600 [==============================] - 0s 81us/step - loss: 0.4043 - acc: 0.8332\n",
      "Epoch 30/100\n",
      "5600/5600 [==============================] - 0s 80us/step - loss: 0.4043 - acc: 0.8337\n",
      "Epoch 31/100\n",
      "5600/5600 [==============================] - 0s 76us/step - loss: 0.4040 - acc: 0.8354\n",
      "Epoch 32/100\n",
      "5600/5600 [==============================] - 0s 80us/step - loss: 0.4038 - acc: 0.8339\n",
      "Epoch 33/100\n",
      "5600/5600 [==============================] - 0s 79us/step - loss: 0.4037 - acc: 0.8350\n",
      "Epoch 34/100\n",
      "5600/5600 [==============================] - 0s 81us/step - loss: 0.4032 - acc: 0.8332\n",
      "Epoch 35/100\n",
      "5600/5600 [==============================] - 0s 76us/step - loss: 0.4033 - acc: 0.8325\n",
      "Epoch 36/100\n",
      "5600/5600 [==============================] - 0s 80us/step - loss: 0.4030 - acc: 0.8327\n",
      "Epoch 37/100\n",
      "5600/5600 [==============================] - 0s 82us/step - loss: 0.4031 - acc: 0.8345\n",
      "Epoch 38/100\n",
      "5600/5600 [==============================] - 0s 80us/step - loss: 0.4029 - acc: 0.8329\n",
      "Epoch 39/100\n",
      "5600/5600 [==============================] - 0s 79us/step - loss: 0.4028 - acc: 0.8339\n",
      "Epoch 40/100\n",
      "5600/5600 [==============================] - 0s 79us/step - loss: 0.4027 - acc: 0.8339\n",
      "Epoch 41/100\n",
      "5600/5600 [==============================] - 0s 76us/step - loss: 0.4027 - acc: 0.8332\n",
      "Epoch 42/100\n",
      "5600/5600 [==============================] - 0s 77us/step - loss: 0.4027 - acc: 0.8346\n",
      "Epoch 43/100\n",
      "5600/5600 [==============================] - 0s 79us/step - loss: 0.4026 - acc: 0.8345\n",
      "Epoch 44/100\n",
      "5600/5600 [==============================] - 0s 77us/step - loss: 0.4020 - acc: 0.8354\n",
      "Epoch 45/100\n",
      "5600/5600 [==============================] - 0s 77us/step - loss: 0.4025 - acc: 0.8348\n",
      "Epoch 46/100\n",
      "5600/5600 [==============================] - 0s 78us/step - loss: 0.4018 - acc: 0.8339\n",
      "Epoch 47/100\n",
      "5600/5600 [==============================] - 0s 78us/step - loss: 0.4021 - acc: 0.8332\n",
      "Epoch 48/100\n",
      "5600/5600 [==============================] - 0s 77us/step - loss: 0.4019 - acc: 0.8339\n",
      "Epoch 49/100\n",
      "5600/5600 [==============================] - 0s 77us/step - loss: 0.4014 - acc: 0.8334\n",
      "Epoch 50/100\n",
      "5600/5600 [==============================] - 0s 76us/step - loss: 0.4020 - acc: 0.8325\n",
      "Epoch 51/100\n",
      "5600/5600 [==============================] - 0s 80us/step - loss: 0.4012 - acc: 0.8329\n",
      "Epoch 52/100\n",
      "5600/5600 [==============================] - 0s 76us/step - loss: 0.4018 - acc: 0.8334\n",
      "Epoch 53/100\n",
      "5600/5600 [==============================] - 0s 78us/step - loss: 0.4020 - acc: 0.8343\n",
      "Epoch 54/100\n",
      "5600/5600 [==============================] - 0s 77us/step - loss: 0.4017 - acc: 0.8345\n",
      "Epoch 55/100\n",
      "5600/5600 [==============================] - 0s 81us/step - loss: 0.4010 - acc: 0.8329\n",
      "Epoch 56/100\n",
      "5600/5600 [==============================] - 0s 80us/step - loss: 0.4014 - acc: 0.8348\n",
      "Epoch 57/100\n",
      "5600/5600 [==============================] - 0s 75us/step - loss: 0.4011 - acc: 0.8339\n",
      "Epoch 58/100\n",
      "5600/5600 [==============================] - 0s 76us/step - loss: 0.4013 - acc: 0.8341\n",
      "Epoch 59/100\n",
      "5600/5600 [==============================] - 0s 75us/step - loss: 0.4010 - acc: 0.8343\n",
      "Epoch 60/100\n",
      "5600/5600 [==============================] - 0s 79us/step - loss: 0.4014 - acc: 0.8345\n",
      "Epoch 61/100\n",
      "5600/5600 [==============================] - 0s 77us/step - loss: 0.4008 - acc: 0.8325\n",
      "Epoch 62/100\n",
      "5600/5600 [==============================] - 0s 78us/step - loss: 0.4010 - acc: 0.8341\n",
      "Epoch 63/100\n",
      "5600/5600 [==============================] - 0s 77us/step - loss: 0.4011 - acc: 0.8330\n",
      "Epoch 64/100\n",
      "5600/5600 [==============================] - 0s 77us/step - loss: 0.4010 - acc: 0.8336\n",
      "Epoch 65/100\n",
      "5600/5600 [==============================] - 0s 77us/step - loss: 0.4009 - acc: 0.8332\n",
      "Epoch 66/100\n",
      "5600/5600 [==============================] - 0s 85us/step - loss: 0.4010 - acc: 0.8346\n",
      "Epoch 67/100\n",
      "5600/5600 [==============================] - 0s 78us/step - loss: 0.4011 - acc: 0.8336\n",
      "Epoch 68/100\n",
      "5600/5600 [==============================] - 0s 78us/step - loss: 0.4007 - acc: 0.8352\n",
      "Epoch 69/100\n",
      "5600/5600 [==============================] - 0s 78us/step - loss: 0.4005 - acc: 0.8345\n",
      "Epoch 70/100\n",
      "5600/5600 [==============================] - 0s 83us/step - loss: 0.4005 - acc: 0.8329\n",
      "Epoch 71/100\n",
      "5600/5600 [==============================] - 0s 79us/step - loss: 0.4005 - acc: 0.8346\n",
      "Epoch 72/100\n",
      "5600/5600 [==============================] - 0s 77us/step - loss: 0.4009 - acc: 0.8337\n",
      "Epoch 73/100\n",
      "5600/5600 [==============================] - 0s 75us/step - loss: 0.4003 - acc: 0.8355\n",
      "Epoch 74/100\n",
      "5600/5600 [==============================] - 0s 79us/step - loss: 0.4008 - acc: 0.8350\n",
      "Epoch 75/100\n",
      "5600/5600 [==============================] - 0s 75us/step - loss: 0.4002 - acc: 0.8346\n",
      "Epoch 76/100\n",
      "5600/5600 [==============================] - 0s 82us/step - loss: 0.4008 - acc: 0.8330\n",
      "Epoch 77/100\n",
      "5600/5600 [==============================] - 0s 77us/step - loss: 0.4003 - acc: 0.8343\n",
      "Epoch 78/100\n",
      "5600/5600 [==============================] - 0s 77us/step - loss: 0.4004 - acc: 0.8346\n",
      "Epoch 79/100\n",
      "5600/5600 [==============================] - 0s 77us/step - loss: 0.4002 - acc: 0.8362\n",
      "Epoch 80/100\n",
      "5600/5600 [==============================] - 0s 82us/step - loss: 0.4000 - acc: 0.8339\n",
      "Epoch 81/100\n",
      "5600/5600 [==============================] - 0s 81us/step - loss: 0.4008 - acc: 0.8339\n",
      "Epoch 82/100\n",
      "5600/5600 [==============================] - 0s 76us/step - loss: 0.4004 - acc: 0.8357\n",
      "Epoch 83/100\n"
     ]
    },
    {
     "name": "stdout",
     "output_type": "stream",
     "text": [
      "5600/5600 [==============================] - 0s 78us/step - loss: 0.3998 - acc: 0.8345\n",
      "Epoch 84/100\n",
      "5600/5600 [==============================] - 0s 81us/step - loss: 0.4001 - acc: 0.8329\n",
      "Epoch 85/100\n",
      "5600/5600 [==============================] - 0s 78us/step - loss: 0.4000 - acc: 0.8346\n",
      "Epoch 86/100\n",
      "5600/5600 [==============================] - 0s 77us/step - loss: 0.4001 - acc: 0.8359\n",
      "Epoch 87/100\n",
      "5600/5600 [==============================] - 0s 78us/step - loss: 0.4002 - acc: 0.8350\n",
      "Epoch 88/100\n",
      "5600/5600 [==============================] - 0s 75us/step - loss: 0.4001 - acc: 0.8341\n",
      "Epoch 89/100\n",
      "5600/5600 [==============================] - 0s 76us/step - loss: 0.4004 - acc: 0.8357\n",
      "Epoch 90/100\n",
      "5600/5600 [==============================] - 0s 75us/step - loss: 0.4000 - acc: 0.8341\n",
      "Epoch 91/100\n",
      "5600/5600 [==============================] - 0s 75us/step - loss: 0.4000 - acc: 0.8354\n",
      "Epoch 92/100\n",
      "5600/5600 [==============================] - 0s 75us/step - loss: 0.3994 - acc: 0.8345\n",
      "Epoch 93/100\n",
      "5600/5600 [==============================] - 0s 77us/step - loss: 0.4000 - acc: 0.8343\n",
      "Epoch 94/100\n",
      "5600/5600 [==============================] - 0s 78us/step - loss: 0.4003 - acc: 0.8337\n",
      "Epoch 95/100\n",
      "5600/5600 [==============================] - 0s 74us/step - loss: 0.3999 - acc: 0.8354\n",
      "Epoch 96/100\n",
      "5600/5600 [==============================] - 0s 78us/step - loss: 0.3996 - acc: 0.8348\n",
      "Epoch 97/100\n",
      "5600/5600 [==============================] - 0s 78us/step - loss: 0.4001 - acc: 0.8345\n",
      "Epoch 98/100\n",
      "5600/5600 [==============================] - 0s 74us/step - loss: 0.3997 - acc: 0.8352\n",
      "Epoch 99/100\n",
      "5600/5600 [==============================] - 0s 79us/step - loss: 0.4000 - acc: 0.8329\n",
      "Epoch 100/100\n",
      "5600/5600 [==============================] - 0s 77us/step - loss: 0.3998 - acc: 0.8341\n"
     ]
    },
    {
     "data": {
      "text/plain": [
       "<keras.callbacks.History at 0x7f860bbfb5f8>"
      ]
     },
     "execution_count": 122,
     "metadata": {},
     "output_type": "execute_result"
    }
   ],
   "source": [
    "# Fitting the Neural Network\n",
    "classifier.fit(x_train, y_train, batch_size=10, epochs=100)"
   ]
  },
  {
   "cell_type": "code",
   "execution_count": 123,
   "metadata": {},
   "outputs": [
    {
     "name": "stdout",
     "output_type": "stream",
     "text": [
      "[[False]\n",
      " [False]\n",
      " [False]\n",
      " ...\n",
      " [ True]\n",
      " [False]\n",
      " [False]]\n"
     ]
    }
   ],
   "source": [
    "#predicting the  test set results\n",
    "\n",
    "y_pred = classifier.predict(x_cv)\n",
    "y_pred = (y_pred >0.5)\n",
    "print(y_pred)"
   ]
  },
  {
   "cell_type": "code",
   "execution_count": 124,
   "metadata": {},
   "outputs": [
    {
     "name": "stdout",
     "output_type": "stream",
     "text": [
      "83.66666666666667\n"
     ]
    }
   ],
   "source": [
    "accuracy= accuracy_score(y_cv,y_pred)*100\n",
    "print(accuracy)"
   ]
  },
  {
   "cell_type": "code",
   "execution_count": 127,
   "metadata": {},
   "outputs": [
    {
     "data": {
      "text/plain": [
       "array([[1847,   45],\n",
       "       [ 347,  161]])"
      ]
     },
     "execution_count": 127,
     "metadata": {},
     "output_type": "execute_result"
    }
   ],
   "source": [
    "#calculate confusion matrix\n",
    "\n",
    "from sklearn.metrics import confusion_matrix\n",
    "cm = confusion_matrix(y_cv,y_pred)\n",
    "cm"
   ]
  },
  {
   "cell_type": "code",
   "execution_count": 128,
   "metadata": {},
   "outputs": [],
   "source": [
    "#create a pickle file\n",
    "file =open(\"train.pickle\",\"wb\")\n",
    "pickle.dump(classifier,file)\n",
    "file.close()"
   ]
  },
  {
   "cell_type": "code",
   "execution_count": null,
   "metadata": {},
   "outputs": [],
   "source": []
  }
 ],
 "metadata": {
  "kernelspec": {
   "display_name": "Python 2",
   "language": "python",
   "name": "python2"
  },
  "language_info": {
   "codemirror_mode": {
    "name": "ipython",
    "version": 3
   },
   "file_extension": ".py",
   "mimetype": "text/x-python",
   "name": "python",
   "nbconvert_exporter": "python",
   "pygments_lexer": "ipython3",
   "version": "3.6.8"
  }
 },
 "nbformat": 4,
 "nbformat_minor": 2
}
