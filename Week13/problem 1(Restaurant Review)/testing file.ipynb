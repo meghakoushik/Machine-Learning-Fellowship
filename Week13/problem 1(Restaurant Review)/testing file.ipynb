{
 "cells": [
  {
   "cell_type": "code",
   "execution_count": 17,
   "metadata": {
    "ExecuteTime": {
     "end_time": "2019-06-02T07:21:38.138782Z",
     "start_time": "2019-06-02T07:21:38.133349Z"
    }
   },
   "outputs": [
    {
     "name": "stderr",
     "output_type": "stream",
     "text": [
      "[nltk_data] Downloading package stopwords to /home/ubuntu/nltk_data...\n",
      "[nltk_data]   Package stopwords is already up-to-date!\n"
     ]
    }
   ],
   "source": [
    "#import libraries\n",
    "import numpy as np\n",
    "import pandas as pd\n",
    "import matplotlib.pyplot as plt\n",
    "from sklearn.model_selection import train_test_split\n",
    "from sklearn.metrics import confusion_matrix\n",
    "from sklearn.naive_bayes import GaussianNB\n",
    "from sklearn.preprocessing import StandardScaler\n",
    "from sklearn.metrics import accuracy_score\n",
    "import re\n",
    "import nltk\n",
    "nltk.download('stopwords')\n",
    "from nltk.corpus import stopwords\n",
    "from nltk.stem.porter import PorterStemmer\n",
    "from sklearn.feature_extraction.text import CountVectorizer\n",
    "from sklearn.metrics import classification_report\n",
    "import pickle"
   ]
  },
  {
   "cell_type": "code",
   "execution_count": 18,
   "metadata": {
    "ExecuteTime": {
     "end_time": "2019-06-02T07:21:38.153263Z",
     "start_time": "2019-06-02T07:21:38.140720Z"
    }
   },
   "outputs": [],
   "source": [
    "file = open('test.pickel', 'rb')\n",
    "# dump information to that file\n",
    "x_test = pickle.load(file)\n",
    "y_test = pickle.load(file)"
   ]
  },
  {
   "cell_type": "code",
   "execution_count": 19,
   "metadata": {
    "ExecuteTime": {
     "end_time": "2019-06-02T07:21:38.171052Z",
     "start_time": "2019-06-02T07:21:38.155463Z"
    }
   },
   "outputs": [],
   "source": [
    "\n",
    "classifier = open(\"GaussianNB.pickel\",\"rb\")\n",
    "classifier = pickle.load(classifier)\n"
   ]
  },
  {
   "cell_type": "code",
   "execution_count": 21,
   "metadata": {
    "ExecuteTime": {
     "end_time": "2019-06-02T07:21:38.211088Z",
     "start_time": "2019-06-02T07:21:38.184892Z"
    }
   },
   "outputs": [
    {
     "name": "stdout",
     "output_type": "stream",
     "text": [
      "GaussianNB(priors=None, var_smoothing=1e-09)\n",
      "\n",
      " pridiction value\n",
      " [0 0 0 0 0 0 1 0 0 1 1 1 0 1 1 1 0 0 0 1 0 1 1 0 0 1 1 1 1 0 1 1 1 1 1 0 0\n",
      " 0 0 1 1 0 1 0 0 0 0 0 0 0 1 1 1 1 0 0 1 1 0 1 0 0 0 0 1 0 1 1 1 0 1 1 1 1\n",
      " 0 1 1 1 0 1 0 1 1 0 1 1 0 0 1 0 0 1 0 0 0 1 0 1 1 0 1 1 1 0 1 0 1 1 0 1 1\n",
      " 1 0 0 1 0 1 1 1 1 1 0 1 0 0 0 1 0 0 1 0 1 0 0 1 1 1 1 1 0 1 1 1 0 1 0 0 1\n",
      " 1 1 1 1 1 1 0 0 1 1 1 0 0 0 1 1 0 0 0 0 0 1 0 1 1 0 0 1 0 1 0 1 1 0 0 0 0\n",
      " 1 0 1 0 1 1 0 0 0 1 0 1 1 0 1]\n",
      "accuracy 99.0\n",
      "confusion matrix value\n",
      "\n",
      " [[ 95   2]\n",
      " [  0 103]]\n"
     ]
    }
   ],
   "source": [
    "class NLP:\n",
    "    def nlp_model(self,x_test,y_test):\n",
    "        classifier = GaussianNB()\n",
    "        classifier.fit(x_test,y_test)\n",
    "        return classifier  \n",
    "    def predict(self,x_test,classifier):\n",
    "        y_pred= classifier.predict(x_test)\n",
    "        return y_pred\n",
    "    def accuracy(self,y_test,y_pred):\n",
    "        accuracy= accuracy_score(y_test,y_pred)\n",
    "        return accuracy   \n",
    "    def confusion_matrix(self,y_test,y_pred):\n",
    "        cm = confusion_matrix(y_test,y_pred)\n",
    "        return cm\n",
    "def main():\n",
    "    obj= NLP()\n",
    "    \n",
    "    #fitting naive Bayes to the trainning set  model\n",
    "    classifier = obj.nlp_model(x_test,y_test)\n",
    "    print(classifier)\n",
    "        \n",
    "    #predicting the test set\n",
    "    y_pred = obj.predict(x_test,classifier)\n",
    "    print(\"\\n pridiction value\\n\",y_pred)\n",
    "   \n",
    "    #calculating accuracy\n",
    "    accuracy = accuracy_score(y_test,y_pred)*100\n",
    "    print(\"accuracy\",accuracy)\n",
    "    \n",
    "    #making the confusion matrix\n",
    "    cm= obj.confusion_matrix(y_test,y_pred)\n",
    "    print(\"confusion matrix value\\n\\n\",cm)\n",
    "\n",
    "\n",
    "if __name__ == '__main__':\n",
    "    main()"
   ]
  },
  {
   "cell_type": "code",
   "execution_count": null,
   "metadata": {},
   "outputs": [],
   "source": []
  },
  {
   "cell_type": "code",
   "execution_count": null,
   "metadata": {},
   "outputs": [],
   "source": []
  }
 ],
 "metadata": {
  "kernelspec": {
   "display_name": "Python 3",
   "language": "python",
   "name": "python3"
  },
  "language_info": {
   "codemirror_mode": {
    "name": "ipython",
    "version": 3
   },
   "file_extension": ".py",
   "mimetype": "text/x-python",
   "name": "python",
   "nbconvert_exporter": "python",
   "pygments_lexer": "ipython3",
   "version": "3.7.3"
  }
 },
 "nbformat": 4,
 "nbformat_minor": 2
}
