{
 "cells": [
  {
   "cell_type": "code",
   "execution_count": 89,
   "metadata": {},
   "outputs": [],
   "source": [
    "# import libraries\n",
    "import pandas as pd\n",
    "import numpy as np\n",
    "import seaborn as sb\n",
    "from matplotlib import pyplot as plt\n",
    "from sklearn.model_selection import train_test_split \n",
    "from sklearn.linear_model import LinearRegression  \n",
    "from sklearn.ensemble import RandomForestRegressor\n",
    "from sklearn.metrics import median_absolute_error\n",
    "from sklearn.metrics import mean_absolute_error\n",
    "from sklearn.svm import SVR\n",
    "import warnings\n",
    "warnings.filterwarnings('ignore')\n",
    "import pickle\n",
    "import sklearn"
   ]
  },
  {
   "cell_type": "code",
   "execution_count": 90,
   "metadata": {},
   "outputs": [
    {
     "data": {
      "text/html": [
       "<div>\n",
       "<style scoped>\n",
       "    .dataframe tbody tr th:only-of-type {\n",
       "        vertical-align: middle;\n",
       "    }\n",
       "\n",
       "    .dataframe tbody tr th {\n",
       "        vertical-align: top;\n",
       "    }\n",
       "\n",
       "    .dataframe thead th {\n",
       "        text-align: right;\n",
       "    }\n",
       "</style>\n",
       "<table border=\"1\" class=\"dataframe\">\n",
       "  <thead>\n",
       "    <tr style=\"text-align: right;\">\n",
       "      <th></th>\n",
       "      <th>registered</th>\n",
       "      <th>cnt</th>\n",
       "    </tr>\n",
       "  </thead>\n",
       "  <tbody>\n",
       "    <tr>\n",
       "      <th>0</th>\n",
       "      <td>3</td>\n",
       "      <td>7</td>\n",
       "    </tr>\n",
       "    <tr>\n",
       "      <th>1</th>\n",
       "      <td>4</td>\n",
       "      <td>5</td>\n",
       "    </tr>\n",
       "    <tr>\n",
       "      <th>2</th>\n",
       "      <td>662</td>\n",
       "      <td>743</td>\n",
       "    </tr>\n",
       "    <tr>\n",
       "      <th>3</th>\n",
       "      <td>163</td>\n",
       "      <td>208</td>\n",
       "    </tr>\n",
       "    <tr>\n",
       "      <th>4</th>\n",
       "      <td>250</td>\n",
       "      <td>333</td>\n",
       "    </tr>\n",
       "  </tbody>\n",
       "</table>\n",
       "</div>"
      ],
      "text/plain": [
       "   registered  cnt\n",
       "0           3    7\n",
       "1           4    5\n",
       "2         662  743\n",
       "3         163  208\n",
       "4         250  333"
      ]
     },
     "execution_count": 90,
     "metadata": {},
     "output_type": "execute_result"
    }
   ],
   "source": [
    "data_module= pd.read_csv(\"test.csv\")\n",
    "data_module.head()"
   ]
  },
  {
   "cell_type": "code",
   "execution_count": 91,
   "metadata": {},
   "outputs": [],
   "source": [
    "# separate labels and features\n",
    "x_test=data_module.iloc[:,:-1].values\n",
    "y_test=data_module.iloc[:,1].values"
   ]
  },
  {
   "cell_type": "code",
   "execution_count": 92,
   "metadata": {},
   "outputs": [
    {
     "name": "stdout",
     "output_type": "stream",
     "text": [
      "(5214, 1)\n",
      "(5214,)\n"
     ]
    }
   ],
   "source": [
    "print(x_test.shape)\n",
    "print(y_test.shape)"
   ]
  },
  {
   "cell_type": "code",
   "execution_count": 93,
   "metadata": {},
   "outputs": [
    {
     "data": {
      "text/plain": [
       "SVR(C=1.0, cache_size=200, coef0=0.0, degree=3, epsilon=0.1,\n",
       "  gamma='auto_deprecated', kernel='rbf', max_iter=-1, shrinking=True,\n",
       "  tol=0.001, verbose=False)"
      ]
     },
     "execution_count": 93,
     "metadata": {},
     "output_type": "execute_result"
    }
   ],
   "source": [
    "regressor= SVR(kernel='rbf')\n",
    "regressor.fit(x_test,y_test)"
   ]
  },
  {
   "cell_type": "code",
   "execution_count": 95,
   "metadata": {},
   "outputs": [
    {
     "name": "stdout",
     "output_type": "stream",
     "text": [
      "SVR(C=1.0, cache_size=200, coef0=0.0, degree=3, epsilon=0.1,\n",
      "  gamma='auto_deprecated', kernel='rbf', max_iter=-1, shrinking=True,\n",
      "  tol=0.001, verbose=False)\n",
      "predict test [2.56099656 3.58915044 1.5637897  ... 1.5637897  1.5637897  1.5637897 ]\n",
      "accuracy test data: 96.38928453675439\n"
     ]
    },
    {
     "data": {
      "image/png": "[encoded data removed]",
      "text/plain": [
       "<Figure size 432x288 with 1 Axes>"
      ]
     },
     "metadata": {
      "needs_background": "light"
     },
     "output_type": "display_data"
    }
   ],
   "source": [
    "class Testing:\n",
    "    def linear_module(self,x_test,y_test):\n",
    "   \n",
    "        regression = regressor.fit(x_test,y_test)\n",
    "        return regression \n",
    "    \n",
    "    def predict_model(self,regression,x_test):\n",
    "        predict_test= regression.predict(x_test)\n",
    "        return predict_test\n",
    "    \n",
    "    def accuracy(self,y_test,predict_test):\n",
    "#         accuracy = sklearn.metrics.r2_score(y_test,predict_test)\n",
    "#         accuracy = (1-accuracy)\n",
    "        \n",
    "#         return accuracy\n",
    "#         accuracy= median_absolute_error(y_test,predict_test)*100\n",
    "#         return accuracy\n",
    "        total_error = mean_absolute_error(y_test, predict_test)\n",
    "        accuracy = ( 1 - total_error/ len(y_test)) *100\n",
    "        return accuracy\n",
    "#         accuracy= median_absolute_error(y_test, predict_test)\n",
    "#         return accuracy\n",
    "    def visualization_test(self,x_test,y_test,predict_test):\n",
    "         #visualizing the train result\n",
    "        x_grid=np.arange(min(x_test),max(x_test),0.1)\n",
    "        x_grid=x_grid.reshape((len(x_grid),1))\n",
    "        plt.scatter(x_test,y_test,color='red')\n",
    "        plt.plot(x_grid,regressor.predict(x_grid),color='blue')\n",
    "        plt.title('predict number of bikes getting shared (Training Set)')\n",
    "        plt.xlabel('temp')\n",
    "        plt.ylabel('bike count')\n",
    "        plt.show()\n",
    "\n",
    "\n",
    "def main():\n",
    "    obj = Testing()\n",
    "    regression = obj.linear_module(x_test,y_test)\n",
    "    print(regression)\n",
    "        #cross validation\n",
    "    file1 = open(\"SupportVector.pkl\",\"rb\")\n",
    "    reg1 = pickle.load(file1)\n",
    "    file1.close()\n",
    "    \n",
    "    predict_test= obj.predict_model(reg1,x_test)\n",
    "    print(\"predict test\",predict_test)\n",
    "    \n",
    "    accuracy = obj.accuracy(y_test,predict_test)\n",
    "    print(\"accuracy test data:\",accuracy)\n",
    "   \n",
    "    obj.visualization_test(x_test,y_test,predict_test)\n",
    "    \n",
    "if __name__ == '__main__':\n",
    "    main()\n"
   ]
  },
  {
   "cell_type": "code",
   "execution_count": null,
   "metadata": {},
   "outputs": [],
   "source": []
  },
  {
   "cell_type": "code",
   "execution_count": null,
   "metadata": {},
   "outputs": [],
   "source": []
  }
 ],
 "metadata": {
  "kernelspec": {
   "display_name": "Python 3",
   "language": "python",
   "name": "python3"
  },
  "language_info": {
   "codemirror_mode": {
    "name": "ipython",
    "version": 3
   },
   "file_extension": ".py",
   "mimetype": "text/x-python",
   "name": "python",
   "nbconvert_exporter": "python",
   "pygments_lexer": "ipython3",
   "version": "3.7.3"
  }
 },
 "nbformat": 4,
 "nbformat_minor": 2
}
