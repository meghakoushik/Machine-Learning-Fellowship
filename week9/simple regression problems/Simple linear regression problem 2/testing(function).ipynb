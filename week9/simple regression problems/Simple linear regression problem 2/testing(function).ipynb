{
 "cells": [
  {
   "cell_type": "code",
   "execution_count": 15,
   "metadata": {},
   "outputs": [],
   "source": [
    "# import libraries\n",
    "import pandas as pd\n",
    "import numpy as np\n",
    "import seaborn as sb\n",
    "from matplotlib import pyplot as plt\n",
    "from sklearn.model_selection import train_test_split \n",
    "from sklearn.linear_model import LinearRegression  \n",
    "import pickle\n",
    "import sklearn"
   ]
  },
  {
   "cell_type": "code",
   "execution_count": 23,
   "metadata": {},
   "outputs": [
    {
     "data": {
      "text/html": [
       "<div>\n",
       "<style scoped>\n",
       "    .dataframe tbody tr th:only-of-type {\n",
       "        vertical-align: middle;\n",
       "    }\n",
       "\n",
       "    .dataframe tbody tr th {\n",
       "        vertical-align: top;\n",
       "    }\n",
       "\n",
       "    .dataframe thead th {\n",
       "        text-align: right;\n",
       "    }\n",
       "</style>\n",
       "<table border=\"1\" class=\"dataframe\">\n",
       "  <thead>\n",
       "    <tr style=\"text-align: right;\">\n",
       "      <th></th>\n",
       "      <th>temp</th>\n",
       "      <th>cnt</th>\n",
       "    </tr>\n",
       "  </thead>\n",
       "  <tbody>\n",
       "    <tr>\n",
       "      <th>0</th>\n",
       "      <td>0.56</td>\n",
       "      <td>7</td>\n",
       "    </tr>\n",
       "    <tr>\n",
       "      <th>1</th>\n",
       "      <td>0.44</td>\n",
       "      <td>5</td>\n",
       "    </tr>\n",
       "    <tr>\n",
       "      <th>2</th>\n",
       "      <td>0.44</td>\n",
       "      <td>743</td>\n",
       "    </tr>\n",
       "    <tr>\n",
       "      <th>3</th>\n",
       "      <td>0.26</td>\n",
       "      <td>208</td>\n",
       "    </tr>\n",
       "    <tr>\n",
       "      <th>4</th>\n",
       "      <td>0.66</td>\n",
       "      <td>333</td>\n",
       "    </tr>\n",
       "  </tbody>\n",
       "</table>\n",
       "</div>"
      ],
      "text/plain": [
       "   temp  cnt\n",
       "0  0.56    7\n",
       "1  0.44    5\n",
       "2  0.44  743\n",
       "3  0.26  208\n",
       "4  0.66  333"
      ]
     },
     "execution_count": 23,
     "metadata": {},
     "output_type": "execute_result"
    }
   ],
   "source": [
    "data_module= pd.read_csv(\"test.csv\")\n",
    "data_module.head()"
   ]
  },
  {
   "cell_type": "code",
   "execution_count": 24,
   "metadata": {},
   "outputs": [],
   "source": [
    "# separate labels and features\n",
    "x_test=data_module.iloc[:,:-1].values\n",
    "y_test=data_module.iloc[:,1].values"
   ]
  },
  {
   "cell_type": "code",
   "execution_count": 25,
   "metadata": {},
   "outputs": [
    {
     "name": "stdout",
     "output_type": "stream",
     "text": [
      "(5214, 1)\n",
      "(5214,)\n"
     ]
    }
   ],
   "source": [
    "print(x_test.shape)\n",
    "print(y_test.shape)"
   ]
  },
  {
   "cell_type": "code",
   "execution_count": 26,
   "metadata": {},
   "outputs": [
    {
     "data": {
      "text/plain": [
       "LinearRegression(copy_X=True, fit_intercept=True, n_jobs=None,\n",
       "         normalize=False)"
      ]
     },
     "execution_count": 26,
     "metadata": {},
     "output_type": "execute_result"
    }
   ],
   "source": [
    "regressor = LinearRegression()  \n",
    "regressor.fit( x_test, y_test) "
   ]
  },
  {
   "cell_type": "code",
   "execution_count": 27,
   "metadata": {},
   "outputs": [
    {
     "name": "stdout",
     "output_type": "stream",
     "text": [
      "LinearRegression(copy_X=True, fit_intercept=True, n_jobs=None,\n",
      "         normalize=False)\n",
      "predict test [215.56980802 168.78128657 168.78128657 ... 293.5506771  223.36789492\n",
      " 199.9736342 ]\n",
      "accuracy test data: 17.082118857392604\n"
     ]
    },
    {
     "data": {
      "image/png": "[encoded data removed]",
      "text/plain": [
       "<Figure size 432x288 with 1 Axes>"
      ]
     },
     "metadata": {
      "needs_background": "light"
     },
     "output_type": "display_data"
    }
   ],
   "source": [
    "class Testing:\n",
    "    def linear_module(self,x_test,y_test):\n",
    "        regressor = LinearRegression()\n",
    "        regression = regressor.fit(x_test,y_test)\n",
    "        return regression \n",
    "    \n",
    "    def predict_model(self,regression,x_test):\n",
    "        predict_test= regression.predict(x_test)\n",
    "        return predict_test\n",
    "    \n",
    "    def accuracy(self,y_test,predict_test):\n",
    "        accuracy = sklearn.metrics.r2_score(y_test,predict_test)*100\n",
    "        return accuracy\n",
    "    \n",
    "    def visualization_train(self,x_test,y_test,predict_test):\n",
    "         #visualizing the train result\n",
    "        plt.scatter(x_test,y_test,color='red')\n",
    "        plt.plot(x_test,regressor.predict(x_test),color='blue')\n",
    "        plt.title(\"truth or bluff\")\n",
    "        plt.xlabel(\"possition\")\n",
    "        plt.ylabel(\"Salary\")\n",
    "        plt.show()\n",
    "\n",
    "def main():\n",
    "    obj = Testing()\n",
    "    regression = obj.linear_module(x_test,y_test)\n",
    "    print(regression)\n",
    "    \n",
    "    predict_test= obj.predict_model(regression,x_test)\n",
    "    print(\"predict test\",predict_test)\n",
    "    \n",
    "    accuracy = obj.accuracy(y_test,predict_test)\n",
    "    print(\"accuracy test data:\",accuracy)\n",
    "   \n",
    "    obj.visualization_train(x_test,y_test,predict_test)\n",
    "    \n",
    "if __name__ == '__main__':\n",
    "    main()\n"
   ]
  },
  {
   "cell_type": "code",
   "execution_count": null,
   "metadata": {},
   "outputs": [],
   "source": []
  },
  {
   "cell_type": "code",
   "execution_count": null,
   "metadata": {},
   "outputs": [],
   "source": []
  }
 ],
 "metadata": {
  "kernelspec": {
   "display_name": "Python 3",
   "language": "python",
   "name": "python3"
  },
  "language_info": {
   "codemirror_mode": {
    "name": "ipython",
    "version": 3
   },
   "file_extension": ".py",
   "mimetype": "text/x-python",
   "name": "python",
   "nbconvert_exporter": "python",
   "pygments_lexer": "ipython3",
   "version": "3.7.3"
  }
 },
 "nbformat": 4,
 "nbformat_minor": 2
}
