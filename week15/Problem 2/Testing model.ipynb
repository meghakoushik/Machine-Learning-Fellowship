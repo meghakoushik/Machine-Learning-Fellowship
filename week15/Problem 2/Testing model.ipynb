
{
 "cells": [
  {
   "cell_type": "code",
   "execution_count": 11,
   "metadata": {},
   "outputs": [],
   "source": [
    "import numpy as np \n",
    "import pandas as pd\n",
    "from keras.models import Sequential\n",
    "from keras.layers import Dropout\n",
    "from keras.layers.convolutional import Conv2D\n",
    "from keras.layers.convolutional import MaxPooling2D\n",
    "from keras.layers import Flatten\n",
    "from keras.layers import Dense\n",
    "from keras.datasets import mnist\n",
    "import matplotlib.pyplot as plt\n",
    "from keras.utils import np_utils\n",
    "import matplotlib.pyplot as plt\n",
    "from pylab import *"
   ]
  },
  {
   "cell_type": "code",
   "execution_count": 12,
   "metadata": {},
   "outputs": [
    {
     "data": {
      "image/png": "[encoded data removed]",
      "text/plain": [
       "<Figure size 432x288 with 1 Axes>"
      ]
     },
     "metadata": {
      "needs_background": "light"
     },
     "output_type": "display_data"
    }
   ],
   "source": [
    "# Importing the Keras libraries and packages\n",
    "from keras.models import load_model\n",
    "model = load_model('MNISt_DATA_MODEL.h5')\n",
    "\n",
    "from PIL import Image\n",
    "import numpy as np\n",
    "\n",
    "for index in range(10):\n",
    "    img = Image.open('Identify-numbers/Images/train/0.png').convert(\"L\")\n",
    "    img = img.resize((28,28))\n",
    "    im2arr = np.array(img)\n",
    "    im2arr = im2arr.reshape(1,28,28,1)             \n",
    "    imshow(im2arr.reshape((28,28)))\n",
    "\n",
    "#     # Predicting the Test set results\n",
    "#     y_pred = model.predict(im2arr)\n",
    "#     plt.imshow(im2arr)\n",
    "\n"
   ]
  },
  {
   "cell_type": "code",
   "execution_count": 25,
   "metadata": {},
   "outputs": [],
   "source": [
    "# import numpy as np\n",
    "# import matplotlib.pyplot as plt\n",
    "# w=10\n",
    "# h=10\n",
    "# for i in range(2,3):\n",
    "#     img = np.random.randint(10, size=(h,w))\n",
    "#     img =img.resize((28,28))\n",
    "#     new_img=np.array(img)\n",
    "#     new_img = new_img.reshape(1,28,28,1)\n",
    "#     plt.imshow(new_img.reshape)\n",
    "# plt.show()"
   ]
  },
  {
   "cell_type": "code",
   "execution_count": null,
   "metadata": {},
   "outputs": [],
   "source": []
  }
 ],
 "metadata": {
  "kernelspec": {
   "display_name": "Python 2",
   "language": "python",
   "name": "python2"
  },
  "language_info": {
   "codemirror_mode": {
    "name": "ipython",
    "version": 3
   },
   "file_extension": ".py",
   "mimetype": "text/x-python",
   "name": "python",
   "nbconvert_exporter": "python",
   "pygments_lexer": "ipython3",
   "version": "3.6.8"
  }
 },
 "nbformat": 4,
 "nbformat_minor": 2
}
