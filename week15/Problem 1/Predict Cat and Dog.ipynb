{
 "cells": [
  {
   "cell_type": "code",
   "execution_count": 25,
   "metadata": {},
   "outputs": [],
   "source": [
    "from keras.models import Sequential\n",
    "from keras.layers import Convolution2D\n",
    "from keras.layers import MaxPooling2D\n",
    "from keras.layers import Flatten\n",
    "from keras.layers import Dense\n",
    "import pickle"
   ]
  },
  {
   "cell_type": "markdown",
   "metadata": {},
   "source": [
    "### Initializing CNN"
   ]
  },
  {
   "cell_type": "code",
   "execution_count": 26,
   "metadata": {},
   "outputs": [],
   "source": [
    "classifier = Sequential()"
   ]
  },
  {
   "cell_type": "markdown",
   "metadata": {},
   "source": [
    "### Step 1: Convolution"
   ]
  },
  {
   "cell_type": "code",
   "execution_count": 27,
   "metadata": {},
   "outputs": [],
   "source": [
    "classifier.add(Convolution2D(32,(3,3), input_shape=(64,64,3),activation ='relu'))"
   ]
  },
  {
   "cell_type": "markdown",
   "metadata": {},
   "source": [
    "### Step 2: Pooling "
   ]
  },
  {
   "cell_type": "code",
   "execution_count": 28,
   "metadata": {},
   "outputs": [],
   "source": [
    "classifier.add(MaxPooling2D(pool_size=(2,2)))"
   ]
  },
  {
   "cell_type": "markdown",
   "metadata": {},
   "source": [
    "### Adding second convolution layer"
   ]
  },
  {
   "cell_type": "code",
   "execution_count": 29,
   "metadata": {},
   "outputs": [],
   "source": [
    "classifier.add(Convolution2D(32,(3,3),activation ='relu'))\n",
    "classifier.add(MaxPooling2D(pool_size=(2,2)))"
   ]
  },
  {
   "cell_type": "markdown",
   "metadata": {},
   "source": [
    "### Step 3: Flattening"
   ]
  },
  {
   "cell_type": "code",
   "execution_count": 18,
   "metadata": {},
   "outputs": [],
   "source": [
    "classifier.add(Flatten())"
   ]
  },
  {
   "cell_type": "markdown",
   "metadata": {},
   "source": [
    "### Step 4: Full Connection"
   ]
  },
  {
   "cell_type": "code",
   "execution_count": 19,
   "metadata": {},
   "outputs": [
    {
     "name": "stderr",
     "output_type": "stream",
     "text": [
      "/home/admin172/.local/lib/python3.6/site-packages/ipykernel_launcher.py:1: UserWarning: Update your `Dense` call to the Keras 2 API: `Dense(activation=\"relu\", units=128)`\n",
      "  \"\"\"Entry point for launching an IPython kernel.\n",
      "/home/admin172/.local/lib/python3.6/site-packages/ipykernel_launcher.py:2: UserWarning: Update your `Dense` call to the Keras 2 API: `Dense(activation=\"sigmoid\", units=1)`\n",
      "  \n"
     ]
    }
   ],
   "source": [
    "classifier.add(Dense(output_dim=128,activation='relu'))\n",
    "classifier.add(Dense(output_dim=1,activation='sigmoid'))\n"
   ]
  },
  {
   "cell_type": "markdown",
   "metadata": {},
   "source": [
    "### Compiling the CNN"
   ]
  },
  {
   "cell_type": "code",
   "execution_count": 20,
   "metadata": {},
   "outputs": [],
   "source": [
    "classifier.compile(optimizer='adam',loss='binary_crossentropy',metrics=['accuracy'])"
   ]
  },
  {
   "cell_type": "markdown",
   "metadata": {},
   "source": [
    "### Fitting the CNN to the dataset"
   ]
  },
  {
   "cell_type": "code",
   "execution_count": 22,
   "metadata": {},
   "outputs": [
    {
     "name": "stdout",
     "output_type": "stream",
     "text": [
      "Found 8000 images belonging to 2 classes.\n",
      "Found 2000 images belonging to 2 classes.\n",
      "Epoch 1/25\n"
     ]
    },
    {
     "name": "stderr",
     "output_type": "stream",
     "text": [
      "/home/admin172/.local/lib/python3.6/site-packages/ipykernel_launcher.py:25: UserWarning: The semantics of the Keras 2 argument `steps_per_epoch` is not the same as the Keras 1 argument `samples_per_epoch`. `steps_per_epoch` is the number of batches to draw from the generator at each epoch. Basically steps_per_epoch = samples_per_epoch/batch_size. Similarly `nb_val_samples`->`validation_steps` and `val_samples`->`steps` arguments have changed. Update your method calls accordingly.\n",
      "/home/admin172/.local/lib/python3.6/site-packages/ipykernel_launcher.py:25: UserWarning: Update your `fit_generator` call to the Keras 2 API: `fit_generator(<keras_pre..., validation_data=<keras_pre..., steps_per_epoch=250, epochs=25, validation_steps=2000)`\n"
     ]
    },
    {
     "name": "stdout",
     "output_type": "stream",
     "text": [
      "250/250 [==============================] - 209s 837ms/step - loss: 0.6718 - acc: 0.5821 - val_loss: 0.6258 - val_acc: 0.6521\n",
      "Epoch 2/25\n",
      "250/250 [==============================] - 115s 460ms/step - loss: 0.6065 - acc: 0.6674 - val_loss: 0.5789 - val_acc: 0.6992\n",
      "Epoch 3/25\n",
      "250/250 [==============================] - 128s 513ms/step - loss: 0.5574 - acc: 0.7130 - val_loss: 0.5582 - val_acc: 0.7115\n",
      "Epoch 4/25\n",
      "250/250 [==============================] - 129s 516ms/step - loss: 0.5376 - acc: 0.7262 - val_loss: 0.5435 - val_acc: 0.7300\n",
      "Epoch 5/25\n",
      "250/250 [==============================] - 120s 482ms/step - loss: 0.5132 - acc: 0.7495 - val_loss: 0.5026 - val_acc: 0.7593\n",
      "Epoch 6/25\n",
      "250/250 [==============================] - 117s 466ms/step - loss: 0.4902 - acc: 0.7650 - val_loss: 0.5037 - val_acc: 0.7508\n",
      "Epoch 7/25\n",
      "250/250 [==============================] - 118s 474ms/step - loss: 0.4751 - acc: 0.7706 - val_loss: 0.4858 - val_acc: 0.7719\n",
      "Epoch 8/25\n",
      "250/250 [==============================] - 116s 464ms/step - loss: 0.4601 - acc: 0.7808 - val_loss: 0.4696 - val_acc: 0.7801\n",
      "Epoch 9/25\n",
      "250/250 [==============================] - 117s 467ms/step - loss: 0.4419 - acc: 0.7923 - val_loss: 0.5080 - val_acc: 0.7609\n",
      "Epoch 10/25\n",
      "250/250 [==============================] - 112s 448ms/step - loss: 0.4298 - acc: 0.8010 - val_loss: 0.4853 - val_acc: 0.7655\n",
      "Epoch 11/25\n",
      "250/250 [==============================] - 116s 465ms/step - loss: 0.4210 - acc: 0.8027 - val_loss: 0.4565 - val_acc: 0.7884\n",
      "Epoch 12/25\n",
      "250/250 [==============================] - 115s 461ms/step - loss: 0.4094 - acc: 0.8094 - val_loss: 0.5066 - val_acc: 0.7819\n",
      "Epoch 13/25\n",
      "250/250 [==============================] - 119s 478ms/step - loss: 0.3969 - acc: 0.8173 - val_loss: 0.4733 - val_acc: 0.7898\n",
      "Epoch 14/25\n",
      "250/250 [==============================] - 127s 506ms/step - loss: 0.3813 - acc: 0.8240 - val_loss: 0.4360 - val_acc: 0.8098\n",
      "Epoch 15/25\n",
      "250/250 [==============================] - 110s 438ms/step - loss: 0.3660 - acc: 0.8360 - val_loss: 0.4335 - val_acc: 0.8104\n",
      "Epoch 16/25\n",
      "250/250 [==============================] - 111s 443ms/step - loss: 0.3639 - acc: 0.8353 - val_loss: 0.4431 - val_acc: 0.8099\n",
      "Epoch 17/25\n",
      "250/250 [==============================] - 125s 501ms/step - loss: 0.3468 - acc: 0.8440 - val_loss: 0.4740 - val_acc: 0.8044\n",
      "Epoch 18/25\n",
      "250/250 [==============================] - 118s 471ms/step - loss: 0.3482 - acc: 0.8442 - val_loss: 0.4418 - val_acc: 0.8006\n",
      "Epoch 19/25\n",
      "250/250 [==============================] - 116s 463ms/step - loss: 0.3328 - acc: 0.8506 - val_loss: 0.4744 - val_acc: 0.7961\n",
      "Epoch 20/25\n",
      "250/250 [==============================] - 111s 444ms/step - loss: 0.3273 - acc: 0.8562 - val_loss: 0.4759 - val_acc: 0.7954\n",
      "Epoch 21/25\n",
      "250/250 [==============================] - 116s 463ms/step - loss: 0.3132 - acc: 0.8638 - val_loss: 0.4994 - val_acc: 0.7921\n",
      "Epoch 22/25\n",
      "250/250 [==============================] - 119s 474ms/step - loss: 0.3032 - acc: 0.8701 - val_loss: 0.4813 - val_acc: 0.8047\n",
      "Epoch 23/25\n",
      "250/250 [==============================] - 119s 477ms/step - loss: 0.2913 - acc: 0.8765 - val_loss: 0.4999 - val_acc: 0.8055\n",
      "Epoch 24/25\n",
      "250/250 [==============================] - 124s 494ms/step - loss: 0.2793 - acc: 0.8822 - val_loss: 0.4778 - val_acc: 0.8030\n",
      "Epoch 25/25\n",
      "250/250 [==============================] - 128s 511ms/step - loss: 0.2698 - acc: 0.8846 - val_loss: 0.4680 - val_acc: 0.8078\n"
     ]
    },
    {
     "data": {
      "text/plain": [
       "<keras.callbacks.History at 0x7ff720479828>"
      ]
     },
     "execution_count": 22,
     "metadata": {},
     "output_type": "execute_result"
    }
   ],
   "source": [
    "from keras.preprocessing.image import ImageDataGenerator\n",
    "from keras.models import Model\n",
    "\n",
    "train_datagen = ImageDataGenerator(rescale=1./255,\n",
    "                                shear_range=0.2,\n",
    "                                zoom_range=0.2,\n",
    "                                horizontal_flip=True)\n",
    "\n",
    "test_datagen = ImageDataGenerator(rescale=1./255)\n",
    "\n",
    "train_set = train_datagen.flow_from_directory('dataset/training_set',\n",
    "                                              target_size=(64,64),\n",
    "                                                batch_size=32,\n",
    "                                                class_mode='binary')\n",
    "\n",
    "test_set = test_datagen.flow_from_directory('dataset/test_set',\n",
    "                                                target_size=(64, 64),\n",
    "                                                batch_size=32,\n",
    "                                                class_mode='binary')\n",
    "\n",
    "classifier.fit_generator(train_set,\n",
    "                        samples_per_epoch=8000,\n",
    "                        nb_epoch=25,\n",
    "                        validation_data=test_set,\n",
    "                        nb_val_samples=2000)"
   ]
  },
  {
   "cell_type": "code",
   "execution_count": 37,
   "metadata": {},
   "outputs": [],
   "source": [
    "\n",
    "classifier.save('model.h5')"
   ]
  }
 ],
 "metadata": {
  "kernelspec": {
   "display_name": "Python 2",
   "language": "python",
   "name": "python2"
  },
  "language_info": {
   "codemirror_mode": {
    "name": "ipython",
    "version": 3
   },
   "file_extension": ".py",
   "mimetype": "text/x-python",
   "name": "python",
   "nbconvert_exporter": "python",
   "pygments_lexer": "ipython3",
   "version": "3.6.8"
  }
 },
 "nbformat": 4,
 "nbformat_minor": 2
}
